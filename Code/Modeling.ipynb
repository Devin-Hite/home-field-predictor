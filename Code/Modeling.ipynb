{
 "cells": [
  {
   "cell_type": "code",
   "execution_count": 1,
   "id": "4795308d-1b7e-4092-993f-a76c5f1b6d91",
   "metadata": {},
   "outputs": [],
   "source": [
    "import matplotlib.pyplot as plt\n",
    "import pandas as pd\n",
    "pd.options.display.max_columns = 99\n",
    "\n",
    "from sklearn.model_selection import train_test_split, cross_val_score, GridSearchCV\n",
    "from sklearn.linear_model import LogisticRegression\n",
    "from sklearn.neighbors import KNeighborsClassifier\n",
    "from sklearn.tree import DecisionTreeClassifier\n",
    "from sklearn.ensemble import BaggingClassifier, RandomForestClassifier, AdaBoostClassifier\n",
    "from sklearn.svm import SVC\n",
    "from sklearn.metrics import confusion_matrix, plot_confusion_matrix, classification_report, recall_score, precision_score, f1_score\n",
    "from sklearn.preprocessing import StandardScaler"
   ]
  },
  {
   "cell_type": "markdown",
   "id": "6b0e6ba9-92d8-4fe4-bb3e-62dd0bc27fc2",
   "metadata": {},
   "source": [
    "# Modeling Home Data for Liverpool"
   ]
  },
  {
   "cell_type": "code",
   "execution_count": 2,
   "id": "c23f4053-8bb8-4401-9271-a354f20c4423",
   "metadata": {},
   "outputs": [],
   "source": [
    "# Reading in stored dataset for liverpool statistics\n",
    "\n",
    "df_home = pd.read_csv(r'C:\\Users\\Dask\\Documents\\Code\\dsi\\capstone\\capstone\\Data\\stats_data\\combined_liverpool_stats_home.csv')"
   ]
  },
  {
   "cell_type": "code",
   "execution_count": 3,
   "id": "06b5bdba-7c62-4bb7-8c28-8bca05b656d8",
   "metadata": {},
   "outputs": [
    {
     "data": {
      "text/html": [
       "<div>\n",
       "<style scoped>\n",
       "    .dataframe tbody tr th:only-of-type {\n",
       "        vertical-align: middle;\n",
       "    }\n",
       "\n",
       "    .dataframe tbody tr th {\n",
       "        vertical-align: top;\n",
       "    }\n",
       "\n",
       "    .dataframe thead th {\n",
       "        text-align: right;\n",
       "    }\n",
       "</style>\n",
       "<table border=\"1\" class=\"dataframe\">\n",
       "  <thead>\n",
       "    <tr style=\"text-align: right;\">\n",
       "      <th></th>\n",
       "      <th>Date</th>\n",
       "      <th>HomeTeam</th>\n",
       "      <th>AwayTeam</th>\n",
       "      <th>FTHG</th>\n",
       "      <th>FTAG</th>\n",
       "      <th>FTR</th>\n",
       "      <th>HTHG</th>\n",
       "      <th>HTAG</th>\n",
       "      <th>HTR</th>\n",
       "      <th>Referee</th>\n",
       "      <th>HS</th>\n",
       "      <th>AS</th>\n",
       "      <th>HST</th>\n",
       "      <th>AST</th>\n",
       "      <th>HF</th>\n",
       "      <th>AF</th>\n",
       "      <th>HC</th>\n",
       "      <th>AC</th>\n",
       "      <th>HY</th>\n",
       "      <th>AY</th>\n",
       "      <th>HR</th>\n",
       "      <th>AR</th>\n",
       "      <th>HomeWin</th>\n",
       "    </tr>\n",
       "  </thead>\n",
       "  <tbody>\n",
       "    <tr>\n",
       "      <th>0</th>\n",
       "      <td>2005-08-20</td>\n",
       "      <td>Liverpool</td>\n",
       "      <td>Sunderland</td>\n",
       "      <td>1.0</td>\n",
       "      <td>0.0</td>\n",
       "      <td>H</td>\n",
       "      <td>1.0</td>\n",
       "      <td>0.0</td>\n",
       "      <td>H</td>\n",
       "      <td>B Knight</td>\n",
       "      <td>15.0</td>\n",
       "      <td>2.0</td>\n",
       "      <td>6.0</td>\n",
       "      <td>0.0</td>\n",
       "      <td>8.0</td>\n",
       "      <td>20.0</td>\n",
       "      <td>5.0</td>\n",
       "      <td>5.0</td>\n",
       "      <td>2.0</td>\n",
       "      <td>3.0</td>\n",
       "      <td>0.0</td>\n",
       "      <td>1.0</td>\n",
       "      <td>1</td>\n",
       "    </tr>\n",
       "    <tr>\n",
       "      <th>1</th>\n",
       "      <td>2005-09-18</td>\n",
       "      <td>Liverpool</td>\n",
       "      <td>Man United</td>\n",
       "      <td>0.0</td>\n",
       "      <td>0.0</td>\n",
       "      <td>D</td>\n",
       "      <td>0.0</td>\n",
       "      <td>0.0</td>\n",
       "      <td>D</td>\n",
       "      <td>R Styles</td>\n",
       "      <td>9.0</td>\n",
       "      <td>4.0</td>\n",
       "      <td>3.0</td>\n",
       "      <td>1.0</td>\n",
       "      <td>24.0</td>\n",
       "      <td>15.0</td>\n",
       "      <td>4.0</td>\n",
       "      <td>2.0</td>\n",
       "      <td>2.0</td>\n",
       "      <td>2.0</td>\n",
       "      <td>0.0</td>\n",
       "      <td>0.0</td>\n",
       "      <td>1</td>\n",
       "    </tr>\n",
       "    <tr>\n",
       "      <th>2</th>\n",
       "      <td>2005-02-10</td>\n",
       "      <td>Liverpool</td>\n",
       "      <td>Chelsea</td>\n",
       "      <td>1.0</td>\n",
       "      <td>4.0</td>\n",
       "      <td>A</td>\n",
       "      <td>1.0</td>\n",
       "      <td>2.0</td>\n",
       "      <td>A</td>\n",
       "      <td>G Poll</td>\n",
       "      <td>11.0</td>\n",
       "      <td>7.0</td>\n",
       "      <td>5.0</td>\n",
       "      <td>5.0</td>\n",
       "      <td>15.0</td>\n",
       "      <td>17.0</td>\n",
       "      <td>4.0</td>\n",
       "      <td>2.0</td>\n",
       "      <td>1.0</td>\n",
       "      <td>3.0</td>\n",
       "      <td>0.0</td>\n",
       "      <td>0.0</td>\n",
       "      <td>0</td>\n",
       "    </tr>\n",
       "    <tr>\n",
       "      <th>3</th>\n",
       "      <td>2005-10-15</td>\n",
       "      <td>Liverpool</td>\n",
       "      <td>Blackburn</td>\n",
       "      <td>1.0</td>\n",
       "      <td>0.0</td>\n",
       "      <td>H</td>\n",
       "      <td>0.0</td>\n",
       "      <td>0.0</td>\n",
       "      <td>D</td>\n",
       "      <td>M Halsey</td>\n",
       "      <td>19.0</td>\n",
       "      <td>4.0</td>\n",
       "      <td>5.0</td>\n",
       "      <td>1.0</td>\n",
       "      <td>8.0</td>\n",
       "      <td>22.0</td>\n",
       "      <td>9.0</td>\n",
       "      <td>2.0</td>\n",
       "      <td>0.0</td>\n",
       "      <td>3.0</td>\n",
       "      <td>0.0</td>\n",
       "      <td>1.0</td>\n",
       "      <td>1</td>\n",
       "    </tr>\n",
       "    <tr>\n",
       "      <th>4</th>\n",
       "      <td>2005-10-29</td>\n",
       "      <td>Liverpool</td>\n",
       "      <td>West Ham</td>\n",
       "      <td>2.0</td>\n",
       "      <td>0.0</td>\n",
       "      <td>H</td>\n",
       "      <td>1.0</td>\n",
       "      <td>0.0</td>\n",
       "      <td>H</td>\n",
       "      <td>U Rennie</td>\n",
       "      <td>17.0</td>\n",
       "      <td>4.0</td>\n",
       "      <td>9.0</td>\n",
       "      <td>2.0</td>\n",
       "      <td>15.0</td>\n",
       "      <td>13.0</td>\n",
       "      <td>10.0</td>\n",
       "      <td>5.0</td>\n",
       "      <td>2.0</td>\n",
       "      <td>0.0</td>\n",
       "      <td>0.0</td>\n",
       "      <td>0.0</td>\n",
       "      <td>1</td>\n",
       "    </tr>\n",
       "    <tr>\n",
       "      <th>...</th>\n",
       "      <td>...</td>\n",
       "      <td>...</td>\n",
       "      <td>...</td>\n",
       "      <td>...</td>\n",
       "      <td>...</td>\n",
       "      <td>...</td>\n",
       "      <td>...</td>\n",
       "      <td>...</td>\n",
       "      <td>...</td>\n",
       "      <td>...</td>\n",
       "      <td>...</td>\n",
       "      <td>...</td>\n",
       "      <td>...</td>\n",
       "      <td>...</td>\n",
       "      <td>...</td>\n",
       "      <td>...</td>\n",
       "      <td>...</td>\n",
       "      <td>...</td>\n",
       "      <td>...</td>\n",
       "      <td>...</td>\n",
       "      <td>...</td>\n",
       "      <td>...</td>\n",
       "      <td>...</td>\n",
       "    </tr>\n",
       "    <tr>\n",
       "      <th>311</th>\n",
       "      <td>2021-11-12</td>\n",
       "      <td>Liverpool</td>\n",
       "      <td>Aston Villa</td>\n",
       "      <td>1.0</td>\n",
       "      <td>0.0</td>\n",
       "      <td>H</td>\n",
       "      <td>0.0</td>\n",
       "      <td>0.0</td>\n",
       "      <td>D</td>\n",
       "      <td>S Attwell</td>\n",
       "      <td>20.0</td>\n",
       "      <td>4.0</td>\n",
       "      <td>5.0</td>\n",
       "      <td>0.0</td>\n",
       "      <td>13.0</td>\n",
       "      <td>6.0</td>\n",
       "      <td>11.0</td>\n",
       "      <td>3.0</td>\n",
       "      <td>1.0</td>\n",
       "      <td>2.0</td>\n",
       "      <td>0.0</td>\n",
       "      <td>0.0</td>\n",
       "      <td>1</td>\n",
       "    </tr>\n",
       "    <tr>\n",
       "      <th>312</th>\n",
       "      <td>2021-12-16</td>\n",
       "      <td>Liverpool</td>\n",
       "      <td>Newcastle</td>\n",
       "      <td>3.0</td>\n",
       "      <td>1.0</td>\n",
       "      <td>H</td>\n",
       "      <td>2.0</td>\n",
       "      <td>1.0</td>\n",
       "      <td>H</td>\n",
       "      <td>M Dean</td>\n",
       "      <td>23.0</td>\n",
       "      <td>4.0</td>\n",
       "      <td>8.0</td>\n",
       "      <td>2.0</td>\n",
       "      <td>9.0</td>\n",
       "      <td>4.0</td>\n",
       "      <td>11.0</td>\n",
       "      <td>0.0</td>\n",
       "      <td>1.0</td>\n",
       "      <td>3.0</td>\n",
       "      <td>0.0</td>\n",
       "      <td>0.0</td>\n",
       "      <td>1</td>\n",
       "    </tr>\n",
       "    <tr>\n",
       "      <th>313</th>\n",
       "      <td>2022-01-16</td>\n",
       "      <td>Liverpool</td>\n",
       "      <td>Brentford</td>\n",
       "      <td>3.0</td>\n",
       "      <td>0.0</td>\n",
       "      <td>H</td>\n",
       "      <td>1.0</td>\n",
       "      <td>0.0</td>\n",
       "      <td>H</td>\n",
       "      <td>J Moss</td>\n",
       "      <td>27.0</td>\n",
       "      <td>6.0</td>\n",
       "      <td>13.0</td>\n",
       "      <td>1.0</td>\n",
       "      <td>6.0</td>\n",
       "      <td>6.0</td>\n",
       "      <td>9.0</td>\n",
       "      <td>0.0</td>\n",
       "      <td>0.0</td>\n",
       "      <td>1.0</td>\n",
       "      <td>0.0</td>\n",
       "      <td>0.0</td>\n",
       "      <td>1</td>\n",
       "    </tr>\n",
       "    <tr>\n",
       "      <th>314</th>\n",
       "      <td>2022-10-02</td>\n",
       "      <td>Liverpool</td>\n",
       "      <td>Leicester</td>\n",
       "      <td>2.0</td>\n",
       "      <td>0.0</td>\n",
       "      <td>H</td>\n",
       "      <td>1.0</td>\n",
       "      <td>0.0</td>\n",
       "      <td>H</td>\n",
       "      <td>C Kavanagh</td>\n",
       "      <td>22.0</td>\n",
       "      <td>5.0</td>\n",
       "      <td>11.0</td>\n",
       "      <td>1.0</td>\n",
       "      <td>11.0</td>\n",
       "      <td>7.0</td>\n",
       "      <td>7.0</td>\n",
       "      <td>6.0</td>\n",
       "      <td>1.0</td>\n",
       "      <td>0.0</td>\n",
       "      <td>0.0</td>\n",
       "      <td>0.0</td>\n",
       "      <td>1</td>\n",
       "    </tr>\n",
       "    <tr>\n",
       "      <th>315</th>\n",
       "      <td>2022-02-19</td>\n",
       "      <td>Liverpool</td>\n",
       "      <td>Norwich</td>\n",
       "      <td>3.0</td>\n",
       "      <td>1.0</td>\n",
       "      <td>H</td>\n",
       "      <td>0.0</td>\n",
       "      <td>0.0</td>\n",
       "      <td>D</td>\n",
       "      <td>M Dean</td>\n",
       "      <td>29.0</td>\n",
       "      <td>6.0</td>\n",
       "      <td>8.0</td>\n",
       "      <td>1.0</td>\n",
       "      <td>7.0</td>\n",
       "      <td>8.0</td>\n",
       "      <td>9.0</td>\n",
       "      <td>4.0</td>\n",
       "      <td>0.0</td>\n",
       "      <td>1.0</td>\n",
       "      <td>0.0</td>\n",
       "      <td>0.0</td>\n",
       "      <td>1</td>\n",
       "    </tr>\n",
       "  </tbody>\n",
       "</table>\n",
       "<p>316 rows × 23 columns</p>\n",
       "</div>"
      ],
      "text/plain": [
       "           Date   HomeTeam     AwayTeam  FTHG  FTAG FTR  HTHG  HTAG HTR  \\\n",
       "0    2005-08-20  Liverpool   Sunderland   1.0   0.0   H   1.0   0.0   H   \n",
       "1    2005-09-18  Liverpool   Man United   0.0   0.0   D   0.0   0.0   D   \n",
       "2    2005-02-10  Liverpool      Chelsea   1.0   4.0   A   1.0   2.0   A   \n",
       "3    2005-10-15  Liverpool    Blackburn   1.0   0.0   H   0.0   0.0   D   \n",
       "4    2005-10-29  Liverpool     West Ham   2.0   0.0   H   1.0   0.0   H   \n",
       "..          ...        ...          ...   ...   ...  ..   ...   ...  ..   \n",
       "311  2021-11-12  Liverpool  Aston Villa   1.0   0.0   H   0.0   0.0   D   \n",
       "312  2021-12-16  Liverpool    Newcastle   3.0   1.0   H   2.0   1.0   H   \n",
       "313  2022-01-16  Liverpool    Brentford   3.0   0.0   H   1.0   0.0   H   \n",
       "314  2022-10-02  Liverpool    Leicester   2.0   0.0   H   1.0   0.0   H   \n",
       "315  2022-02-19  Liverpool      Norwich   3.0   1.0   H   0.0   0.0   D   \n",
       "\n",
       "        Referee    HS   AS   HST  AST    HF    AF    HC   AC   HY   AY   HR  \\\n",
       "0      B Knight  15.0  2.0   6.0  0.0   8.0  20.0   5.0  5.0  2.0  3.0  0.0   \n",
       "1      R Styles   9.0  4.0   3.0  1.0  24.0  15.0   4.0  2.0  2.0  2.0  0.0   \n",
       "2        G Poll  11.0  7.0   5.0  5.0  15.0  17.0   4.0  2.0  1.0  3.0  0.0   \n",
       "3      M Halsey  19.0  4.0   5.0  1.0   8.0  22.0   9.0  2.0  0.0  3.0  0.0   \n",
       "4      U Rennie  17.0  4.0   9.0  2.0  15.0  13.0  10.0  5.0  2.0  0.0  0.0   \n",
       "..          ...   ...  ...   ...  ...   ...   ...   ...  ...  ...  ...  ...   \n",
       "311   S Attwell  20.0  4.0   5.0  0.0  13.0   6.0  11.0  3.0  1.0  2.0  0.0   \n",
       "312      M Dean  23.0  4.0   8.0  2.0   9.0   4.0  11.0  0.0  1.0  3.0  0.0   \n",
       "313      J Moss  27.0  6.0  13.0  1.0   6.0   6.0   9.0  0.0  0.0  1.0  0.0   \n",
       "314  C Kavanagh  22.0  5.0  11.0  1.0  11.0   7.0   7.0  6.0  1.0  0.0  0.0   \n",
       "315      M Dean  29.0  6.0   8.0  1.0   7.0   8.0   9.0  4.0  0.0  1.0  0.0   \n",
       "\n",
       "      AR  HomeWin  \n",
       "0    1.0        1  \n",
       "1    0.0        1  \n",
       "2    0.0        0  \n",
       "3    1.0        1  \n",
       "4    0.0        1  \n",
       "..   ...      ...  \n",
       "311  0.0        1  \n",
       "312  0.0        1  \n",
       "313  0.0        1  \n",
       "314  0.0        1  \n",
       "315  0.0        1  \n",
       "\n",
       "[316 rows x 23 columns]"
      ]
     },
     "execution_count": 3,
     "metadata": {},
     "output_type": "execute_result"
    }
   ],
   "source": [
    "df_home"
   ]
  },
  {
   "cell_type": "code",
   "execution_count": 4,
   "id": "979d25f6-454b-4972-bc31-2f70f24cfa73",
   "metadata": {},
   "outputs": [
    {
     "data": {
      "text/plain": [
       "1    0.892405\n",
       "0    0.107595\n",
       "Name: HomeWin, dtype: float64"
      ]
     },
     "execution_count": 4,
     "metadata": {},
     "output_type": "execute_result"
    }
   ],
   "source": [
    "# Baseline accuracy score\n",
    "\n",
    "df_home['HomeWin'].value_counts(normalize = True)"
   ]
  },
  {
   "cell_type": "code",
   "execution_count": 5,
   "id": "d8aa5ad6-b6f7-4238-9b7a-291369dbabce",
   "metadata": {},
   "outputs": [],
   "source": [
    "#Mapping full time and half time results to show wins and draws combined to be undefeated as 2, and losses as 1\n",
    "\n",
    "df_home['FTR'] = df_home['FTR'].map({'H': 2, 'D': 2, 'A': 1})\n",
    "df_home['HTR'] = df_home['HTR'].map({'H': 2, 'D': 2, 'A': 1})"
   ]
  },
  {
   "cell_type": "code",
   "execution_count": 6,
   "id": "d4dbd8d2-ad0f-48f1-b546-045ae1a78fb8",
   "metadata": {},
   "outputs": [
    {
     "data": {
      "text/plain": [
       "Date         object\n",
       "HomeTeam     object\n",
       "AwayTeam     object\n",
       "FTHG        float64\n",
       "FTAG        float64\n",
       "FTR           int64\n",
       "HTHG        float64\n",
       "HTAG        float64\n",
       "HTR           int64\n",
       "Referee      object\n",
       "HS          float64\n",
       "AS          float64\n",
       "HST         float64\n",
       "AST         float64\n",
       "HF          float64\n",
       "AF          float64\n",
       "HC          float64\n",
       "AC          float64\n",
       "HY          float64\n",
       "AY          float64\n",
       "HR          float64\n",
       "AR          float64\n",
       "HomeWin       int64\n",
       "dtype: object"
      ]
     },
     "execution_count": 6,
     "metadata": {},
     "output_type": "execute_result"
    }
   ],
   "source": [
    "df_home.dtypes"
   ]
  },
  {
   "cell_type": "code",
   "execution_count": 7,
   "id": "6c0c2f06-b495-40b5-a3f3-d4bcd6e51662",
   "metadata": {},
   "outputs": [],
   "source": [
    "# Converting all columns to integers\n",
    "\n",
    "df_home['FTAG'] = df_home['FTAG'].astype(int)\n",
    "df_home['FTHG'] = df_home['FTHG'].astype(int)\n",
    "df_home['HTHG'] = df_home['HTHG'].astype(int)\n",
    "df_home['HTAG'] = df_home['HTAG'].astype(int)\n",
    "df_home['HS'] = df_home['HS'].astype(int)\n",
    "df_home['AS'] = df_home['AS'].astype(int)\n",
    "df_home['HST'] = df_home['HST'].astype(int)\n",
    "df_home['AST'] = df_home['AST'].astype(int)\n",
    "df_home['HF'] = df_home['HF'].astype(int)\n",
    "df_home['AF'] = df_home['AF'].astype(int)\n",
    "df_home['HC'] = df_home['HC'].astype(int)\n",
    "df_home['AC'] = df_home['AC'].astype(int)\n",
    "df_home['HY'] = df_home['HY'].astype(int)\n",
    "df_home['AY'] = df_home['AY'].astype(int)\n",
    "df_home['HR'] = df_home['HR'].astype(int)\n",
    "df_home['AR'] = df_home['AR'].astype(int)"
   ]
  },
  {
   "cell_type": "code",
   "execution_count": 8,
   "id": "cb7f3a46-cb3f-4ff1-8eb0-6424d3eeffe7",
   "metadata": {},
   "outputs": [
    {
     "data": {
      "text/plain": [
       "Date        0\n",
       "HomeTeam    0\n",
       "AwayTeam    0\n",
       "FTHG        0\n",
       "FTAG        0\n",
       "FTR         0\n",
       "HTHG        0\n",
       "HTAG        0\n",
       "HTR         0\n",
       "Referee     0\n",
       "HS          0\n",
       "AS          0\n",
       "HST         0\n",
       "AST         0\n",
       "HF          0\n",
       "AF          0\n",
       "HC          0\n",
       "AC          0\n",
       "HY          0\n",
       "AY          0\n",
       "HR          0\n",
       "AR          0\n",
       "HomeWin     0\n",
       "dtype: int64"
      ]
     },
     "execution_count": 8,
     "metadata": {},
     "output_type": "execute_result"
    }
   ],
   "source": [
    "# Checking for null values, there are none since it's well recorded sports data\n",
    "\n",
    "df_home.isnull().sum()"
   ]
  },
  {
   "cell_type": "code",
   "execution_count": 9,
   "id": "cbd48bcd-7431-43d3-a7ca-f1e40885b231",
   "metadata": {},
   "outputs": [],
   "source": [
    "# Turning the referee and away team string columns into dummy columns\n",
    "\n",
    "df_home = pd.concat([df_home, pd.get_dummies(df_home['Referee'])], axis=1)\n",
    "df_home = pd.concat([df_home, pd.get_dummies(df_home['AwayTeam'])], axis=1)"
   ]
  },
  {
   "cell_type": "code",
   "execution_count": 10,
   "id": "d1d116b9-cead-4cb1-8d92-6e4d2cad1e62",
   "metadata": {},
   "outputs": [],
   "source": [
    "# setting up X and y variable columns for modeling and scaling them\n",
    "\n",
    "X = df_home.drop(columns = ['HomeWin', 'HomeTeam', 'AwayTeam', 'Referee', 'Date', 'FTHG', 'FTR'])\n",
    "y = df_home['HomeWin']\n",
    "X_train, X_test, y_train, y_test = train_test_split(X, y, random_state = 42, stratify = y)\n",
    "ss = StandardScaler()\n",
    "X_train_sc = ss.fit_transform(X_train)\n",
    "X_test_sc = ss.transform(X_test)"
   ]
  },
  {
   "cell_type": "markdown",
   "id": "69324090-f59e-40ff-bf75-dafbbe628efa",
   "metadata": {},
   "source": [
    "#### Logistic Regression for home data"
   ]
  },
  {
   "cell_type": "code",
   "execution_count": 11,
   "id": "c23537fb-04a2-4ea7-b18e-81ba2e45a4b0",
   "metadata": {},
   "outputs": [
    {
     "data": {
      "text/plain": [
       "(0.8945147679324894, 0.8860759493670886)"
      ]
     },
     "execution_count": 11,
     "metadata": {},
     "output_type": "execute_result"
    }
   ],
   "source": [
    "#Logistic Regression Model\n",
    "\n",
    "logreg = LogisticRegression(C=.01)\n",
    "logreg.fit(X_train_sc, y_train)\n",
    "logreg.score(X_train_sc, y_train), logreg.score(X_test_sc, y_test)"
   ]
  },
  {
   "cell_type": "code",
   "execution_count": 12,
   "id": "f59a4237-633f-4d6a-9119-89fcba70bdf6",
   "metadata": {},
   "outputs": [
    {
     "data": {
      "image/png": "[encoded data removed]",
      "text/plain": [
       "<Figure size 432x288 with 2 Axes>"
      ]
     },
     "metadata": {
      "needs_background": "light"
     },
     "output_type": "display_data"
    }
   ],
   "source": [
    "# Logistic regression confusion matrix\n",
    "\n",
    "test_preds_lr = logreg.predict(X_test_sc)\n",
    "\n",
    "pd.DataFrame(confusion_matrix(y_test, test_preds_lr))\n",
    "\n",
    "plot_confusion_matrix(logreg, X_test, y_test, cmap='Blues', values_format='d')\n",
    "plt.title('LogReg Accuracy');\n",
    "\n",
    "plt.savefig(r'C:\\Users\\Dask\\Documents\\Code\\dsi\\capstone\\capstone\\Figures\\Logreg_matrix.jpg')"
   ]
  },
  {
   "cell_type": "code",
   "execution_count": 13,
   "id": "7ac221e4-2929-442b-81d8-5f65a390dc99",
   "metadata": {},
   "outputs": [
    {
     "name": "stdout",
     "output_type": "stream",
     "text": [
      "              precision    recall  f1-score   support\n",
      "\n",
      "           0       0.00      0.00      0.00         9\n",
      "           1       0.89      1.00      0.94        70\n",
      "\n",
      "    accuracy                           0.89        79\n",
      "   macro avg       0.44      0.50      0.47        79\n",
      "weighted avg       0.79      0.89      0.83        79\n",
      "\n"
     ]
    },
    {
     "name": "stderr",
     "output_type": "stream",
     "text": [
      "C:\\Users\\Dask\\anaconda3\\lib\\site-packages\\sklearn\\metrics\\_classification.py:1248: UndefinedMetricWarning: Precision and F-score are ill-defined and being set to 0.0 in labels with no predicted samples. Use `zero_division` parameter to control this behavior.\n",
      "  _warn_prf(average, modifier, msg_start, len(result))\n",
      "C:\\Users\\Dask\\anaconda3\\lib\\site-packages\\sklearn\\metrics\\_classification.py:1248: UndefinedMetricWarning: Precision and F-score are ill-defined and being set to 0.0 in labels with no predicted samples. Use `zero_division` parameter to control this behavior.\n",
      "  _warn_prf(average, modifier, msg_start, len(result))\n",
      "C:\\Users\\Dask\\anaconda3\\lib\\site-packages\\sklearn\\metrics\\_classification.py:1248: UndefinedMetricWarning: Precision and F-score are ill-defined and being set to 0.0 in labels with no predicted samples. Use `zero_division` parameter to control this behavior.\n",
      "  _warn_prf(average, modifier, msg_start, len(result))\n"
     ]
    }
   ],
   "source": [
    "print(classification_report(y_test, test_preds_lr))"
   ]
  },
  {
   "cell_type": "code",
   "execution_count": 14,
   "id": "4c6ce73d-7b84-4c63-ad9b-8e675fda3ef0",
   "metadata": {},
   "outputs": [
    {
     "data": {
      "text/plain": [
       "1.0"
      ]
     },
     "execution_count": 14,
     "metadata": {},
     "output_type": "execute_result"
    }
   ],
   "source": [
    "recall_score(y_test, test_preds_lr)"
   ]
  },
  {
   "cell_type": "markdown",
   "id": "3c68dcb7-1abd-4940-a1ca-6a5f4d860e89",
   "metadata": {
    "tags": []
   },
   "source": [
    "#### KNN Classification for home data"
   ]
  },
  {
   "cell_type": "code",
   "execution_count": 15,
   "id": "f5b8274f-603e-4fbf-954c-9476405a024b",
   "metadata": {},
   "outputs": [
    {
     "data": {
      "text/plain": [
       "(0.8945147679324894, 0.8860759493670886)"
      ]
     },
     "execution_count": 15,
     "metadata": {},
     "output_type": "execute_result"
    }
   ],
   "source": [
    "# K-Nearest neighbors model\n",
    "\n",
    "knc = KNeighborsClassifier(n_neighbors=15)\n",
    "knc.fit(X_train_sc, y_train)\n",
    "knc.score(X_train_sc, y_train), knc.score(X_test_sc, y_test)"
   ]
  },
  {
   "cell_type": "code",
   "execution_count": 16,
   "id": "23f1f0fd-d34d-4aad-8c68-8aa67b71f733",
   "metadata": {},
   "outputs": [
    {
     "data": {
      "image/png": "[encoded data removed]",
      "text/plain": [
       "<Figure size 432x288 with 2 Axes>"
      ]
     },
     "metadata": {
      "needs_background": "light"
     },
     "output_type": "display_data"
    }
   ],
   "source": [
    "# KNN confusion matrix\n",
    "\n",
    "test_preds_knc = knc.predict(X_test_sc)\n",
    "\n",
    "pd.DataFrame(confusion_matrix(y_test, test_preds_knc))\n",
    "\n",
    "plot_confusion_matrix(knc, X_test, y_test, cmap='Blues', values_format='d')\n",
    "plt.title('KNC Accuracy');"
   ]
  },
  {
   "cell_type": "code",
   "execution_count": 17,
   "id": "de5f45a3-9d3a-4530-9d6b-2862e4f635c1",
   "metadata": {},
   "outputs": [
    {
     "name": "stdout",
     "output_type": "stream",
     "text": [
      "              precision    recall  f1-score   support\n",
      "\n",
      "           0       0.00      0.00      0.00         9\n",
      "           1       0.89      1.00      0.94        70\n",
      "\n",
      "    accuracy                           0.89        79\n",
      "   macro avg       0.44      0.50      0.47        79\n",
      "weighted avg       0.79      0.89      0.83        79\n",
      "\n"
     ]
    },
    {
     "name": "stderr",
     "output_type": "stream",
     "text": [
      "C:\\Users\\Dask\\anaconda3\\lib\\site-packages\\sklearn\\metrics\\_classification.py:1248: UndefinedMetricWarning: Precision and F-score are ill-defined and being set to 0.0 in labels with no predicted samples. Use `zero_division` parameter to control this behavior.\n",
      "  _warn_prf(average, modifier, msg_start, len(result))\n",
      "C:\\Users\\Dask\\anaconda3\\lib\\site-packages\\sklearn\\metrics\\_classification.py:1248: UndefinedMetricWarning: Precision and F-score are ill-defined and being set to 0.0 in labels with no predicted samples. Use `zero_division` parameter to control this behavior.\n",
      "  _warn_prf(average, modifier, msg_start, len(result))\n",
      "C:\\Users\\Dask\\anaconda3\\lib\\site-packages\\sklearn\\metrics\\_classification.py:1248: UndefinedMetricWarning: Precision and F-score are ill-defined and being set to 0.0 in labels with no predicted samples. Use `zero_division` parameter to control this behavior.\n",
      "  _warn_prf(average, modifier, msg_start, len(result))\n"
     ]
    }
   ],
   "source": [
    "print(classification_report(y_test, test_preds_knc))"
   ]
  },
  {
   "cell_type": "code",
   "execution_count": 18,
   "id": "38789a28-0f1a-4146-bb62-da90e978163a",
   "metadata": {},
   "outputs": [
    {
     "data": {
      "text/plain": [
       "1.0"
      ]
     },
     "execution_count": 18,
     "metadata": {},
     "output_type": "execute_result"
    }
   ],
   "source": [
    "recall_score(y_test, test_preds_knc)"
   ]
  },
  {
   "cell_type": "markdown",
   "id": "8267cd08-aa74-4345-9e04-6cc83471db9e",
   "metadata": {},
   "source": [
    "#### Decision Tree Classification for home data"
   ]
  },
  {
   "cell_type": "code",
   "execution_count": 19,
   "id": "bbb5b722-fb9f-4198-8343-503c24534e95",
   "metadata": {},
   "outputs": [
    {
     "data": {
      "text/plain": [
       "(0.9873417721518988, 0.8607594936708861)"
      ]
     },
     "execution_count": 19,
     "metadata": {},
     "output_type": "execute_result"
    }
   ],
   "source": [
    "# Decision Tree model\n",
    "\n",
    "dtc = DecisionTreeClassifier(max_depth=5)\n",
    "dtc.fit(X_train_sc, y_train)\n",
    "dtc.score(X_train_sc, y_train), dtc.score(X_test_sc, y_test)"
   ]
  },
  {
   "cell_type": "code",
   "execution_count": 20,
   "id": "f3a1155d-0d9a-455d-8a62-e98dcd31457e",
   "metadata": {},
   "outputs": [
    {
     "data": {
      "image/png": "[encoded data removed]",
      "text/plain": [
       "<Figure size 432x288 with 2 Axes>"
      ]
     },
     "metadata": {
      "needs_background": "light"
     },
     "output_type": "display_data"
    }
   ],
   "source": [
    "# Decision tree confusion matrix\n",
    "\n",
    "test_preds_dtc = dtc.predict(X_test_sc)\n",
    "\n",
    "pd.DataFrame(confusion_matrix(y_test, test_preds_dtc))\n",
    "\n",
    "plot_confusion_matrix(dtc, X_test, y_test, cmap='Blues', values_format='d')\n",
    "plt.title('Decision Tree Accuracy');"
   ]
  },
  {
   "cell_type": "code",
   "execution_count": 21,
   "id": "5ec0d1c8-4203-409e-b405-f106e8c70f7c",
   "metadata": {},
   "outputs": [
    {
     "name": "stdout",
     "output_type": "stream",
     "text": [
      "              precision    recall  f1-score   support\n",
      "\n",
      "           0       0.33      0.22      0.27         9\n",
      "           1       0.90      0.94      0.92        70\n",
      "\n",
      "    accuracy                           0.86        79\n",
      "   macro avg       0.62      0.58      0.59        79\n",
      "weighted avg       0.84      0.86      0.85        79\n",
      "\n"
     ]
    }
   ],
   "source": [
    "print(classification_report(y_test, test_preds_dtc))"
   ]
  },
  {
   "cell_type": "code",
   "execution_count": 22,
   "id": "b4f04b96-f07a-4499-9a7b-4e38ee4e9734",
   "metadata": {},
   "outputs": [
    {
     "data": {
      "text/plain": [
       "0.9428571428571428"
      ]
     },
     "execution_count": 22,
     "metadata": {},
     "output_type": "execute_result"
    }
   ],
   "source": [
    "recall_score(y_test, test_preds_dtc)"
   ]
  },
  {
   "cell_type": "markdown",
   "id": "98da0176-07d0-4abe-9bfa-76b87d121451",
   "metadata": {},
   "source": [
    "#### Bagging Classification for home data"
   ]
  },
  {
   "cell_type": "code",
   "execution_count": 23,
   "id": "8c9ed0c2-cdb5-4f0b-9b47-f2613ba13dbf",
   "metadata": {},
   "outputs": [
    {
     "data": {
      "text/plain": [
       "(0.9704641350210971, 0.8607594936708861)"
      ]
     },
     "execution_count": 23,
     "metadata": {},
     "output_type": "execute_result"
    }
   ],
   "source": [
    "# Bagging Model\n",
    "\n",
    "bc = BaggingClassifier(n_estimators=2, random_state = 20)\n",
    "bc.fit(X_train_sc, y_train)\n",
    "bc.score(X_train_sc, y_train), bc.score(X_test_sc, y_test)"
   ]
  },
  {
   "cell_type": "code",
   "execution_count": 24,
   "id": "26aa6cf0-6f3e-4788-8bcb-f71393ede088",
   "metadata": {},
   "outputs": [
    {
     "data": {
      "image/png": "[encoded data removed]",
      "text/plain": [
       "<Figure size 432x288 with 2 Axes>"
      ]
     },
     "metadata": {
      "needs_background": "light"
     },
     "output_type": "display_data"
    }
   ],
   "source": [
    "# Bagging model confusion matrix\n",
    "\n",
    "test_preds_bc = bc.predict(X_test_sc)\n",
    "\n",
    "pd.DataFrame(confusion_matrix(y_test, test_preds_bc))\n",
    "\n",
    "plot_confusion_matrix(bc, X_test, y_test, cmap='Blues', values_format='d')\n",
    "plt.title('Bagging Accuracy');"
   ]
  },
  {
   "cell_type": "code",
   "execution_count": 25,
   "id": "2beeadbd-5511-46a9-b630-821c997a6b1b",
   "metadata": {},
   "outputs": [
    {
     "name": "stdout",
     "output_type": "stream",
     "text": [
      "              precision    recall  f1-score   support\n",
      "\n",
      "           0       0.42      0.56      0.48         9\n",
      "           1       0.94      0.90      0.92        70\n",
      "\n",
      "    accuracy                           0.86        79\n",
      "   macro avg       0.68      0.73      0.70        79\n",
      "weighted avg       0.88      0.86      0.87        79\n",
      "\n"
     ]
    }
   ],
   "source": [
    "print(classification_report(y_test, test_preds_bc))"
   ]
  },
  {
   "cell_type": "code",
   "execution_count": 26,
   "id": "092d8d0f-c81f-4a49-aceb-4989f7a507a6",
   "metadata": {},
   "outputs": [
    {
     "data": {
      "text/plain": [
       "0.9"
      ]
     },
     "execution_count": 26,
     "metadata": {},
     "output_type": "execute_result"
    }
   ],
   "source": [
    "recall_score(y_test, test_preds_bc)"
   ]
  },
  {
   "cell_type": "markdown",
   "id": "c20c8042-fb38-464a-afd4-5714eebe0244",
   "metadata": {},
   "source": [
    "#### Random Forest Classification for home data"
   ]
  },
  {
   "cell_type": "code",
   "execution_count": 27,
   "id": "6ac7f5d4-51b6-4aaf-b94a-af4e5639236c",
   "metadata": {},
   "outputs": [
    {
     "data": {
      "text/plain": [
       "(0.9957805907172996, 0.8987341772151899)"
      ]
     },
     "execution_count": 27,
     "metadata": {},
     "output_type": "execute_result"
    }
   ],
   "source": [
    "# Random Forest model\n",
    "\n",
    "rfc = RandomForestClassifier(n_estimators = 10, random_state = 10)\n",
    "rfc.fit(X_train_sc, y_train)\n",
    "rfc.score(X_train_sc, y_train), rfc.score(X_test_sc, y_test)"
   ]
  },
  {
   "cell_type": "code",
   "execution_count": 28,
   "id": "d91ae004-6181-4099-bbbf-2fca31b8ed7f",
   "metadata": {},
   "outputs": [
    {
     "data": {
      "image/png": "[encoded data removed]",
      "text/plain": [
       "<Figure size 432x288 with 2 Axes>"
      ]
     },
     "metadata": {
      "needs_background": "light"
     },
     "output_type": "display_data"
    }
   ],
   "source": [
    "# Random forest confusion matrix\n",
    "\n",
    "test_preds_rfc = rfc.predict(X_test_sc)\n",
    "\n",
    "pd.DataFrame(confusion_matrix(y_test, test_preds_rfc))\n",
    "\n",
    "plot_confusion_matrix(rfc, X_test, y_test, cmap='Blues', values_format='d')\n",
    "plt.title('Random Forest Accuracy');"
   ]
  },
  {
   "cell_type": "code",
   "execution_count": 29,
   "id": "19d30494-d817-47e4-b490-4865a9cfd312",
   "metadata": {},
   "outputs": [
    {
     "name": "stdout",
     "output_type": "stream",
     "text": [
      "              precision    recall  f1-score   support\n",
      "\n",
      "           0       0.67      0.22      0.33         9\n",
      "           1       0.91      0.99      0.95        70\n",
      "\n",
      "    accuracy                           0.90        79\n",
      "   macro avg       0.79      0.60      0.64        79\n",
      "weighted avg       0.88      0.90      0.88        79\n",
      "\n"
     ]
    }
   ],
   "source": [
    "print(classification_report(y_test, test_preds_rfc))"
   ]
  },
  {
   "cell_type": "code",
   "execution_count": 30,
   "id": "53e689a9-879f-47f3-87a0-4d7fdbed50c5",
   "metadata": {},
   "outputs": [
    {
     "data": {
      "text/plain": [
       "0.9857142857142858"
      ]
     },
     "execution_count": 30,
     "metadata": {},
     "output_type": "execute_result"
    }
   ],
   "source": [
    "recall_score(y_test, test_preds_rfc)"
   ]
  },
  {
   "cell_type": "markdown",
   "id": "c0611086-dadd-4c4a-8bf8-1e24142c2ac6",
   "metadata": {},
   "source": [
    "#### ADA boost Classification for home data"
   ]
  },
  {
   "cell_type": "code",
   "execution_count": 31,
   "id": "c83cd3ae-c7f6-4294-8a45-1bc153885c48",
   "metadata": {},
   "outputs": [
    {
     "data": {
      "text/plain": [
       "(0.9240506329113924, 0.8860759493670886)"
      ]
     },
     "execution_count": 31,
     "metadata": {},
     "output_type": "execute_result"
    }
   ],
   "source": [
    "# Ada boost model\n",
    "\n",
    "abc = AdaBoostClassifier(n_estimators = 5)\n",
    "abc.fit(X_train_sc, y_train)\n",
    "abc.score(X_train_sc, y_train), abc.score(X_test_sc, y_test)"
   ]
  },
  {
   "cell_type": "code",
   "execution_count": 32,
   "id": "a326f8bf-f385-4744-b3ff-868cd65d49d8",
   "metadata": {},
   "outputs": [
    {
     "data": {
      "image/png": "[encoded data removed]",
      "text/plain": [
       "<Figure size 432x288 with 2 Axes>"
      ]
     },
     "metadata": {
      "needs_background": "light"
     },
     "output_type": "display_data"
    }
   ],
   "source": [
    "# Ada boost confusion matrix\n",
    "\n",
    "test_preds_abc = abc.predict(X_test_sc)\n",
    "\n",
    "pd.DataFrame(confusion_matrix(y_test, test_preds_abc))\n",
    "\n",
    "plot_confusion_matrix(abc, X_test, y_test, cmap='Blues', values_format='d')\n",
    "plt.title('Ada Boost Accuracy');"
   ]
  },
  {
   "cell_type": "code",
   "execution_count": 33,
   "id": "7efe5388-b517-4c1b-baf1-f80c4c7ab5be",
   "metadata": {},
   "outputs": [
    {
     "name": "stdout",
     "output_type": "stream",
     "text": [
      "              precision    recall  f1-score   support\n",
      "\n",
      "           0       0.50      0.11      0.18         9\n",
      "           1       0.90      0.99      0.94        70\n",
      "\n",
      "    accuracy                           0.89        79\n",
      "   macro avg       0.70      0.55      0.56        79\n",
      "weighted avg       0.85      0.89      0.85        79\n",
      "\n"
     ]
    }
   ],
   "source": [
    "print(classification_report(y_test, test_preds_abc))"
   ]
  },
  {
   "cell_type": "code",
   "execution_count": 34,
   "id": "a0fcaa09-8708-421e-b43a-41225dc1ec07",
   "metadata": {},
   "outputs": [
    {
     "data": {
      "text/plain": [
       "0.9857142857142858"
      ]
     },
     "execution_count": 34,
     "metadata": {},
     "output_type": "execute_result"
    }
   ],
   "source": [
    "recall_score(y_test, test_preds_abc)"
   ]
  },
  {
   "cell_type": "markdown",
   "id": "0ad393af-a0e6-4015-8afc-27dcafccaa65",
   "metadata": {},
   "source": [
    "#### SVC Classification for home data"
   ]
  },
  {
   "cell_type": "code",
   "execution_count": 35,
   "id": "2624555d-0099-4891-b640-aa27fdc956c8",
   "metadata": {},
   "outputs": [
    {
     "data": {
      "text/plain": [
       "(0.9535864978902954, 0.8734177215189873)"
      ]
     },
     "execution_count": 35,
     "metadata": {},
     "output_type": "execute_result"
    }
   ],
   "source": [
    "# Support vector model\n",
    "\n",
    "svc = SVC()\n",
    "svc.fit(X_train_sc, y_train)\n",
    "svc.score(X_train_sc, y_train), svc.score(X_test_sc, y_test)"
   ]
  },
  {
   "cell_type": "code",
   "execution_count": 36,
   "id": "913cd5a0-51fd-432b-9621-524b627fc23d",
   "metadata": {},
   "outputs": [
    {
     "data": {
      "image/png": "[encoded data removed]",
      "text/plain": [
       "<Figure size 432x288 with 2 Axes>"
      ]
     },
     "metadata": {
      "needs_background": "light"
     },
     "output_type": "display_data"
    }
   ],
   "source": [
    "# Support vector confusion matrix\n",
    "\n",
    "test_preds_svc = svc.predict(X_test_sc)\n",
    "\n",
    "pd.DataFrame(confusion_matrix(y_test, test_preds_svc))\n",
    "\n",
    "plot_confusion_matrix(svc, X_test, y_test, cmap='Blues', values_format='d')\n",
    "plt.title('SVC Accuracy');"
   ]
  },
  {
   "cell_type": "code",
   "execution_count": 37,
   "id": "7ce42009-789e-4e34-9e17-18ff8003bff1",
   "metadata": {},
   "outputs": [
    {
     "name": "stdout",
     "output_type": "stream",
     "text": [
      "              precision    recall  f1-score   support\n",
      "\n",
      "           0       0.00      0.00      0.00         9\n",
      "           1       0.88      0.99      0.93        70\n",
      "\n",
      "    accuracy                           0.87        79\n",
      "   macro avg       0.44      0.49      0.47        79\n",
      "weighted avg       0.78      0.87      0.83        79\n",
      "\n"
     ]
    }
   ],
   "source": [
    "print(classification_report(y_test, test_preds_svc))"
   ]
  },
  {
   "cell_type": "code",
   "execution_count": 38,
   "id": "ba1804f8-d547-456e-a780-ed1b3c0a40ce",
   "metadata": {},
   "outputs": [
    {
     "data": {
      "text/plain": [
       "0.9857142857142858"
      ]
     },
     "execution_count": 38,
     "metadata": {},
     "output_type": "execute_result"
    }
   ],
   "source": [
    "recall_score(y_test, test_preds_svc)"
   ]
  },
  {
   "cell_type": "markdown",
   "id": "c7b24803-701c-428e-9c97-0c8cd5d2829d",
   "metadata": {},
   "source": [
    "# Modeling Away Data for Liverpool"
   ]
  },
  {
   "cell_type": "code",
   "execution_count": 39,
   "id": "830d2f14-4a84-4f16-9863-e774664329e7",
   "metadata": {},
   "outputs": [],
   "source": [
    "# Reading in stored data and Modeling Away data for liverpool stats\n",
    "\n",
    "df_away = pd.read_csv(r'C:\\Users\\Dask\\Documents\\Code\\dsi\\capstone\\capstone\\Data\\stats_data\\combined_liverpool_stats_away.csv')"
   ]
  },
  {
   "cell_type": "code",
   "execution_count": 40,
   "id": "ac76fefa-a8ba-4779-8928-8464c4932e64",
   "metadata": {},
   "outputs": [
    {
     "data": {
      "text/plain": [
       "1    0.716088\n",
       "0    0.283912\n",
       "Name: AwayWin, dtype: float64"
      ]
     },
     "execution_count": 40,
     "metadata": {},
     "output_type": "execute_result"
    }
   ],
   "source": [
    "# Baseline accuracy\n",
    "\n",
    "df_away['AwayWin'].value_counts(normalize = True)"
   ]
  },
  {
   "cell_type": "code",
   "execution_count": 41,
   "id": "c6d0be92-8de3-49b4-bfe9-99c3ba145259",
   "metadata": {},
   "outputs": [],
   "source": [
    "# Same columns mapped as home stats data\n",
    "\n",
    "df_away['FTR'] = df_away['FTR'].map({'H': 2, 'D': 2, 'A': 1})\n",
    "df_away['HTR'] = df_away['HTR'].map({'H': 2, 'D': 2, 'A': 1})"
   ]
  },
  {
   "cell_type": "code",
   "execution_count": 42,
   "id": "af7ecd64-ccd3-48c2-a0f1-a3335898338a",
   "metadata": {},
   "outputs": [],
   "source": [
    "# Dtypes converted to integers\n",
    "\n",
    "df_away['FTAG'] = df_away['FTAG'].astype(int)\n",
    "df_away['FTHG'] = df_away['FTHG'].astype(int)\n",
    "df_away['HTHG'] = df_away['HTHG'].astype(int)\n",
    "df_away['HTAG'] = df_away['HTAG'].astype(int)\n",
    "df_away['HS'] = df_away['HS'].astype(int)\n",
    "df_away['AS'] = df_away['AS'].astype(int)\n",
    "df_away['HST'] = df_away['HST'].astype(int)\n",
    "df_away['AST'] = df_away['AST'].astype(int)\n",
    "df_away['HF'] = df_away['HF'].astype(int)\n",
    "df_away['AF'] = df_away['AF'].astype(int)\n",
    "df_away['HC'] = df_away['HC'].astype(int)\n",
    "df_away['AC'] = df_away['AC'].astype(int)\n",
    "df_away['HY'] = df_away['HY'].astype(int)\n",
    "df_away['AY'] = df_away['AY'].astype(int)\n",
    "df_away['HR'] = df_away['HR'].astype(int)\n",
    "df_away['AR'] = df_away['AR'].astype(int)"
   ]
  },
  {
   "cell_type": "code",
   "execution_count": 43,
   "id": "195f187d-56ad-4b04-8405-298ba82161db",
   "metadata": {},
   "outputs": [
    {
     "data": {
      "text/plain": [
       "Date        0\n",
       "HomeTeam    0\n",
       "AwayTeam    0\n",
       "FTHG        0\n",
       "FTAG        0\n",
       "FTR         0\n",
       "HTHG        0\n",
       "HTAG        0\n",
       "HTR         0\n",
       "Referee     0\n",
       "HS          0\n",
       "AS          0\n",
       "HST         0\n",
       "AST         0\n",
       "HF          0\n",
       "AF          0\n",
       "HC          0\n",
       "AC          0\n",
       "HY          0\n",
       "AY          0\n",
       "HR          0\n",
       "AR          0\n",
       "AwayWin     0\n",
       "dtype: int64"
      ]
     },
     "execution_count": 43,
     "metadata": {},
     "output_type": "execute_result"
    }
   ],
   "source": [
    "# Checking for lack of null values again\n",
    "\n",
    "df_away.isnull().sum()"
   ]
  },
  {
   "cell_type": "code",
   "execution_count": 44,
   "id": "8711ca5d-a6f8-4773-bf35-9a2c7ebbbaab",
   "metadata": {},
   "outputs": [],
   "source": [
    "# Referee and Hometeam columns dummied\n",
    "\n",
    "df_away = pd.concat([df_away, pd.get_dummies(df_away['Referee'])], axis=1)\n",
    "df_away = pd.concat([df_away, pd.get_dummies(df_away['HomeTeam'])], axis=1)"
   ]
  },
  {
   "cell_type": "code",
   "execution_count": 45,
   "id": "46902783-b170-4a2f-9581-5224cf8fe9fe",
   "metadata": {},
   "outputs": [],
   "source": [
    "# Setting up X and y data for away team stats\n",
    "\n",
    "X = df_away.drop(columns = ['AwayWin', 'HomeTeam', 'AwayTeam', 'Referee', 'Date', 'FTHG', 'FTAG', 'FTR'])\n",
    "y = df_away['AwayWin']\n",
    "X_train, X_test, y_train, y_test = train_test_split(X, y, random_state = 42, stratify = y)\n",
    "ss = StandardScaler()\n",
    "X_train_sc = ss.fit_transform(X_train)\n",
    "X_test_sc = ss.transform(X_test)"
   ]
  },
  {
   "cell_type": "code",
   "execution_count": 46,
   "id": "d06e33e1-0daf-4dc3-952c-444f5bdac57e",
   "metadata": {},
   "outputs": [
    {
     "data": {
      "text/plain": [
       "(0.7172995780590717, 0.7125)"
      ]
     },
     "execution_count": 46,
     "metadata": {},
     "output_type": "execute_result"
    }
   ],
   "source": [
    "#Logistic Regression Model\n",
    "\n",
    "logreg = LogisticRegression(C=.001)\n",
    "logreg.fit(X_train_sc, y_train)\n",
    "logreg.score(X_train_sc, y_train), logreg.score(X_test_sc, y_test)"
   ]
  },
  {
   "cell_type": "code",
   "execution_count": 47,
   "id": "60398355-5367-4a8b-9c1b-f8dfcaed1ec1",
   "metadata": {},
   "outputs": [
    {
     "data": {
      "image/png": "[encoded data removed]",
      "text/plain": [
       "<Figure size 432x288 with 2 Axes>"
      ]
     },
     "metadata": {
      "needs_background": "light"
     },
     "output_type": "display_data"
    }
   ],
   "source": [
    "# Logistic regression confusion matrix\n",
    "\n",
    "test_preds_lr = logreg.predict(X_test_sc)\n",
    "\n",
    "pd.DataFrame(confusion_matrix(y_test, test_preds_lr))\n",
    "\n",
    "plot_confusion_matrix(logreg, X_test, y_test, cmap='Blues', values_format='d')\n",
    "plt.title('LogReg Accuracy');\n",
    "\n",
    "#plt.savefig('NB_accuracy_matrix.jpg')"
   ]
  }
 ],
 "metadata": {
  "kernelspec": {
   "display_name": "Python 3 (ipykernel)",
   "language": "python",
   "name": "python3"
  },
  "language_info": {
   "codemirror_mode": {
    "name": "ipython",
    "version": 3
   },
   "file_extension": ".py",
   "mimetype": "text/x-python",
   "name": "python",
   "nbconvert_exporter": "python",
   "pygments_lexer": "ipython3",
   "version": "3.9.7"
  }
 },
 "nbformat": 4,
 "nbformat_minor": 5
}
